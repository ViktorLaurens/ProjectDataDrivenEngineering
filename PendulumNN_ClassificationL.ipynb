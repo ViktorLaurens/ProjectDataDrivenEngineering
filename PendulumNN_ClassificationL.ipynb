{
  "nbformat": 4,
  "nbformat_minor": 0,
  "metadata": {
    "colab": {
      "provenance": []
    },
    "kernelspec": {
      "name": "python3",
      "display_name": "Python 3"
    },
    "language_info": {
      "name": "python"
    }
  },
  "cells": [
    {
      "cell_type": "markdown",
      "source": [
        "**Data-Driven Engineering Project: Prediction of a pendulum motion**\n",
        "\n",
        "**Classification**\n",
        "\n",
        "Classification of the length works fine with input layer immediately connected to the output and relu connection 10 epochs adam (this was checked with the dataset where only the length was varied an all other parameters are kept constant):\n",
        "\n",
        "```\n",
        "% Define constants\n",
        "g = 9.81;                % acceleration due to gravity [m/s^2]\n",
        "L = [0.1,0.25,0.5,0.75,1];           % length of pendulum [m]\n",
        "M = 0.1;              % mass of pendulum [kg]\n",
        "C = 0.05;     % damping coefficient [kg*m^2/s]\n",
        "THETA0 = [25]./180*pi;    % initial angle [radians]\n",
        "OMEGA0 = [0];                     % initial angular velocity [radians/s]\n",
        "samples = 100;\n",
        "\n",
        "% Add Guassian noise\n",
        "mu = 0;\n",
        "sigma = 0;\n",
        "```\n",
        "\n",
        "First we need to import in the datavectors X and Y from the .mat files"
      ],
      "metadata": {
        "id": "ihUmCs2tA9iO"
      }
    },
    {
      "cell_type": "code",
      "execution_count": null,
      "metadata": {
        "colab": {
          "base_uri": "https://localhost:8080/"
        },
        "id": "HBGIv62PA3OI",
        "outputId": "5768694f-ca7a-485a-ad17-4d53459a14d6"
      },
      "outputs": [
        {
          "output_type": "stream",
          "name": "stdout",
          "text": [
            "Mounted at /content/gdrive/\n"
          ]
        }
      ],
      "source": [
        "from google.colab import files\n",
        "\n",
        "# uploaded = files.upload() # upload directly but can take some time\n",
        "\n",
        "from google.colab import drive\n",
        "\n",
        "drive.mount('/content/gdrive/', force_remount=True)\n",
        "\n"
      ]
    },
    {
      "cell_type": "code",
      "source": [
        "import scipy.io\n",
        "import tensorflow as tf\n",
        "import numpy as np\n",
        "import sklearn\n",
        "import matplotlib.pyplot as plt\n",
        "from tensorflow.keras.utils import to_categorical\n",
        "from sklearn.model_selection import train_test_split\n",
        "from sklearn.preprocessing import StandardScaler\n",
        "from sklearn.metrics import r2_score\n",
        "from scipy.integrate import odeint\n",
        "\n",
        "X_L = scipy.io.loadmat('/content/gdrive/MyDrive/DataDrivenEngineering_Data/X_L.mat')\n",
        "Y_L = scipy.io.loadmat('/content/gdrive/MyDrive/DataDrivenEngineering_Data/Y_L.mat')\n",
        "Y_L = Y_L['Y_L'].T        # import the variable named 'Y' from the .mat file\n",
        "X_L = X_L['X_L'].T\n",
        "\n",
        "# Transpose to get the samples on the rows and features on columns\n",
        "\n",
        "print(X_L.shape)\n",
        "print(Y_L.shape)\n"
      ],
      "metadata": {
        "colab": {
          "base_uri": "https://localhost:8080/"
        },
        "id": "yAamWXHJHtwG",
        "outputId": "b88a4098-c3c7-4bfd-bea4-720f8ceb7a4c"
      },
      "execution_count": null,
      "outputs": [
        {
          "output_type": "stream",
          "name": "stdout",
          "text": [
            "(500, 10001)\n",
            "(500, 5)\n"
          ]
        }
      ]
    },
    {
      "cell_type": "code",
      "source": [
        "# Plot one observation with its labels\n",
        "observation = 20\n",
        "\n",
        "dt = 0.01  # time step\n",
        "t_end = 100  # end time in seconds\n",
        "tspan = np.arange(0, t_end + dt, dt)\n",
        "\n",
        "plt.plot(tspan,X_L[observation,:]*180/np.pi)\n",
        "plt.ylabel('Theta (deg)')\n",
        "plt.xlabel('t (s)')\n",
        "plt.show()\n"
      ],
      "metadata": {
        "colab": {
          "base_uri": "https://localhost:8080/",
          "height": 449
        },
        "id": "0BaZddV4H8Zf",
        "outputId": "2219a111-3519-45fc-cf87-5c659d3f2da2"
      },
      "execution_count": null,
      "outputs": [
        {
          "output_type": "display_data",
          "data": {
            "text/plain": [
              "<Figure size 640x480 with 1 Axes>"
            ],
            "image/png": "[encoded data removed]"
          },
          "metadata": {}
        }
      ]
    },
    {
      "cell_type": "markdown",
      "source": [
        "*Loss functions*:\n",
        "- Regression\n",
        "\n",
        "Mean Squared Error (MSE): MSE is the most commonly used loss function for regression tasks. It calculates the average squared difference between the predicted and actual values.\n",
        "\n",
        "Mean Absolute Error (MAE): MAE calculates the average absolute difference between the predicted and actual values.\n",
        "\n",
        "Mean Absolute Percentage Error (MAPE): MAPE is similar to MAE but calculates the percentage difference between the predicted and actual values.\n",
        "\n",
        "Mean Squared Logarithmic Error (MSLE): MSLE calculates the average squared difference between the logarithm of predicted and actual values.\n",
        "\n",
        "Huber Loss: Huber loss is a combination of MSE and MAE loss. It is less sensitive to outliers than MSE.\n",
        "\n",
        "Log-Cosh Loss: Log-Cosh loss is also less sensitive to outliers than MSE. It is a smooth approximation of the Huber loss.\n",
        "\n",
        "Quantile Loss: Quantile loss is used to predict quantiles of the target distribution.\n",
        "\n",
        "- Classification\n",
        "\n",
        "(sparse) Cathegorical crossentropy\n",
        "\n",
        "*Optimizers:* \n",
        "['SGD', 'Adam', 'RMSprop', 'Adadelta', 'Adagrad', 'Adamax', 'Nadam','Ftrl','SGD']\n",
        "\n",
        "*Activation Functions:* ['relu', 'sigmoid', 'softplus', 'softsign', 'tanh', 'selu','elu', 'exponential', LeakyReLU,'relu']"
      ],
      "metadata": {
        "id": "hJzqlVu6Ioux"
      }
    },
    {
      "cell_type": "code",
      "source": [
        "# Take the labels of parameter we want for classification\n",
        "y = Y_L[:,0] # Labels for length: 0.1, 0.25, 0.5, 0.75, 1 -> should vary from 0,1,2,3,4\n",
        "\n",
        "y_mapped = y\n",
        "\n",
        "for i in range(0,len(y_mapped)):\n",
        "  if y[i] == 0.1:\n",
        "    y_mapped[i] = 0\n",
        "  elif y[i] == 0.25:\n",
        "    y_mapped[i] = 1\n",
        "  elif y[i] == 0.5:\n",
        "    y_mapped[i] = 2\n",
        "  elif y[i] == 0.75:\n",
        "    y_mapped[i] = 3\n",
        "  elif y[i] == 1:\n",
        "    y_mapped[i] = 4\n",
        "y_mapped = y_mapped.astype(int)\n",
        "\n",
        "# Split the data into train and test sets and permutates randomly\n",
        "X_train, X_test, y_train, y_test = train_test_split(X_L, y_mapped, test_size=0.2, random_state=5)\n",
        "\n",
        "print(y_train[0:10])\n",
        "\n",
        "# Scale the train and test parts\n",
        "scaler = StandardScaler()\n",
        "X0_train = scaler.fit_transform(X_train)\n",
        "X0_test = scaler.transform(X_test)\n",
        "\n",
        "# scaling and spliting cannot be interchanged because by scaling you use all of the data that you input, \n",
        "# such that you insert some knowledge of the test data!"
      ],
      "metadata": {
        "id": "yuziAnXPItkG",
        "colab": {
          "base_uri": "https://localhost:8080/"
        },
        "outputId": "be131a98-d62c-4265-8805-921caaff42aa"
      },
      "execution_count": null,
      "outputs": [
        {
          "output_type": "stream",
          "name": "stdout",
          "text": [
            "[2 3 1 4 1 0 0 2 3 3]\n"
          ]
        }
      ]
    },
    {
      "cell_type": "code",
      "source": [
        "# Build a linear neural network using the tensorflow sequential model\n",
        "# https://www.tensorflow.org/guide/keras/sequential_model\n",
        "\n",
        "output_shape = 5 # 5 possible values for the length\n",
        "input_shape = (X_train.shape[1],)\n",
        "\n",
        "# Fully-connected neural network\n",
        "model = tf.keras.Sequential([\n",
        "    # Let's start with input directly connected to output\n",
        "    tf.keras.layers.Dense(output_shape, input_shape=input_shape, activation='linear')\n",
        "\n",
        "    # # Let's try adding 1 hidden layer \n",
        "    # tf.keras.layers.Dense(64,input_shape=input_shape, name='Hidden1',activation = 'relu'), # First hidden Layer\n",
        "    # tf.keras.layers.Dense(output_shape, name ='Output',activation='linear')\n",
        "\n",
        "    # # Let's try adding 2 hidden layers\n",
        "    # tf.keras.layers.Dense(128,input_shape=input_shape, name='Hidden1',activation = 'relu'), # First hidden Layer\n",
        "    # tf.keras.layers.Dense(8, activation=\"relu\", name=\"Hidden2\"), # Second hidden Layer\n",
        "    # tf.keras.layers.Dense(output_shape, name ='Output',activation='linear')\n",
        "    \n",
        "])\n",
        "\n",
        "model.summary()\n",
        "model.compile(optimizer='adam',\n",
        "              loss=tf.keras.losses.SparseCategoricalCrossentropy(from_logits=True),\n",
        "              metrics=['accuracy'])"
      ],
      "metadata": {
        "colab": {
          "base_uri": "https://localhost:8080/"
        },
        "id": "qk-Mn0zQJQsh",
        "outputId": "d4b0c729-3183-436e-c553-0332bb19c8b3"
      },
      "execution_count": null,
      "outputs": [
        {
          "output_type": "stream",
          "name": "stdout",
          "text": [
            "Model: \"sequential\"\n",
            "_________________________________________________________________\n",
            " Layer (type)                Output Shape              Param #   \n",
            "=================================================================\n",
            " dense (Dense)               (None, 5)                 50010     \n",
            "                                                                 \n",
            "=================================================================\n",
            "Total params: 50,010\n",
            "Trainable params: 50,010\n",
            "Non-trainable params: 0\n",
            "_________________________________________________________________\n"
          ]
        }
      ]
    },
    {
      "cell_type": "code",
      "source": [
        "# Fully-connected neural network with input directly connected to output\n",
        "output_shape = 5 # 5 possible values for the length\n",
        "input_shape = (X_train.shape[1],)\n",
        "model = tf.keras.Sequential([\n",
        "    tf.keras.layers.Dense(output_shape, input_shape=input_shape, activation='linear')    \n",
        "])\n",
        "\n",
        "model.summary()\n",
        "model.compile(optimizer='adam',\n",
        "              loss=tf.keras.losses.SparseCategoricalCrossentropy(from_logits=True),\n",
        "              metrics=['accuracy'])"
      ],
      "metadata": {
        "id": "m74KSG_f8Awk",
        "colab": {
          "base_uri": "https://localhost:8080/"
        },
        "outputId": "d337be50-435b-45c1-ba96-cf2b49021a54"
      },
      "execution_count": null,
      "outputs": [
        {
          "output_type": "stream",
          "name": "stdout",
          "text": [
            "Model: \"sequential_1\"\n",
            "_________________________________________________________________\n",
            " Layer (type)                Output Shape              Param #   \n",
            "=================================================================\n",
            " dense_1 (Dense)             (None, 5)                 50010     \n",
            "                                                                 \n",
            "=================================================================\n",
            "Total params: 50,010\n",
            "Trainable params: 50,010\n",
            "Non-trainable params: 0\n",
            "_________________________________________________________________\n"
          ]
        }
      ]
    },
    {
      "cell_type": "code",
      "source": [
        "history = model.fit(X0_train, y_train, \n",
        "                    epochs=10, \n",
        "                    validation_data=(X0_test, y_test))"
      ],
      "metadata": {
        "colab": {
          "base_uri": "https://localhost:8080/"
        },
        "id": "hEbJ9FqfJgoS",
        "outputId": "bd3c8433-c84d-4f2e-cf03-864c07b6158e"
      },
      "execution_count": null,
      "outputs": [
        {
          "output_type": "stream",
          "name": "stdout",
          "text": [
            "Epoch 1/10\n",
            "13/13 [==============================] - 1s 28ms/step - loss: 0.0934 - accuracy: 0.9700 - val_loss: 0.0000e+00 - val_accuracy: 1.0000\n",
            "Epoch 2/10\n",
            "13/13 [==============================] - 0s 9ms/step - loss: 0.0000e+00 - accuracy: 1.0000 - val_loss: 0.0000e+00 - val_accuracy: 1.0000\n",
            "Epoch 3/10\n",
            "13/13 [==============================] - 0s 9ms/step - loss: 0.0000e+00 - accuracy: 1.0000 - val_loss: 0.0000e+00 - val_accuracy: 1.0000\n",
            "Epoch 4/10\n",
            "13/13 [==============================] - 0s 10ms/step - loss: 0.0000e+00 - accuracy: 1.0000 - val_loss: 0.0000e+00 - val_accuracy: 1.0000\n",
            "Epoch 5/10\n",
            "13/13 [==============================] - 0s 9ms/step - loss: 0.0000e+00 - accuracy: 1.0000 - val_loss: 0.0000e+00 - val_accuracy: 1.0000\n",
            "Epoch 6/10\n",
            "13/13 [==============================] - 0s 10ms/step - loss: 0.0000e+00 - accuracy: 1.0000 - val_loss: 0.0000e+00 - val_accuracy: 1.0000\n",
            "Epoch 7/10\n",
            "13/13 [==============================] - 0s 13ms/step - loss: 0.0000e+00 - accuracy: 1.0000 - val_loss: 0.0000e+00 - val_accuracy: 1.0000\n",
            "Epoch 8/10\n",
            "13/13 [==============================] - 0s 9ms/step - loss: 0.0000e+00 - accuracy: 1.0000 - val_loss: 0.0000e+00 - val_accuracy: 1.0000\n",
            "Epoch 9/10\n",
            "13/13 [==============================] - 0s 9ms/step - loss: 0.0000e+00 - accuracy: 1.0000 - val_loss: 0.0000e+00 - val_accuracy: 1.0000\n",
            "Epoch 10/10\n",
            "13/13 [==============================] - 0s 8ms/step - loss: 0.0000e+00 - accuracy: 1.0000 - val_loss: 0.0000e+00 - val_accuracy: 1.0000\n"
          ]
        }
      ]
    },
    {
      "cell_type": "code",
      "source": [
        "# We can check the training history\n",
        "# when the loss doesn't change anymore -> model has reached maximum accuracy\n",
        "# Evaluate the model\n",
        "test_loss, test_acc = model.evaluate(X_test,  y_test, verbose=2)\n",
        "\n",
        "print('test loss:', test_loss)\n",
        "print('test accuracy:', test_acc)\n",
        "\n",
        "fig, axs = plt.subplots(1, 2, figsize=(8, 4))\n",
        "axs[0].plot(history.history['loss'], label='loss')\n",
        "axs[0].plot(history.history['val_loss'], label = 'val_loss')\n",
        "axs[0].set_xlabel('Epoch')\n",
        "axs[0].set_ylabel('Loss')\n",
        "axs[0].legend()\n",
        "\n",
        "axs[1].plot(history.history['accuracy'], label='accuracy')\n",
        "axs[1].plot(history.history['val_accuracy'], label = 'val_accuracy')\n",
        "axs[1].set_xlabel('Epoch')\n",
        "axs[1].set_ylabel('Accuracy')\n",
        "axs[1].legend()\n",
        "\n",
        "fig.tight_layout()\n",
        "plt.show()\n",
        "\n",
        "# graphs very important when training, loss can go down and val_loss can stay same\n",
        "# model is getting overfit \n",
        "# select number of epochs on validation loss !!!"
      ],
      "metadata": {
        "colab": {
          "base_uri": "https://localhost:8080/",
          "height": 459
        },
        "id": "VnvMUJzEJqBL",
        "outputId": "1a11428d-9bbd-49de-ba79-b84323de8333"
      },
      "execution_count": null,
      "outputs": [
        {
          "output_type": "stream",
          "name": "stdout",
          "text": [
            "4/4 - 0s - loss: 1.1900 - accuracy: 1.0000 - 32ms/epoch - 8ms/step\n",
            "test loss: 1.1900273561477661\n",
            "test accuracy: 1.0\n"
          ]
        },
        {
          "output_type": "display_data",
          "data": {
            "text/plain": [
              "<Figure size 800x400 with 2 Axes>"
            ],
            "image/png": "[encoded data removed]"
          },
          "metadata": {}
        }
      ]
    },
    {
      "cell_type": "code",
      "source": [
        "# save the figure as an EPS file\n",
        "fig.savefig('trainingHistory_XL1.eps', format='eps')\n",
        "# download the figure to your local machine\n",
        "from google.colab import files\n",
        "files.download('trainingHistory_XL1.eps')"
      ],
      "metadata": {
        "colab": {
          "base_uri": "https://localhost:8080/",
          "height": 34
        },
        "id": "hR88vz6d66ji",
        "outputId": "133200bc-9a03-4c13-dd7d-e1062e5da0cb"
      },
      "execution_count": null,
      "outputs": [
        {
          "output_type": "stream",
          "name": "stderr",
          "text": [
            "WARNING:matplotlib.backends.backend_ps:The PostScript backend does not support transparency; partially transparent artists will be rendered opaque.\n"
          ]
        },
        {
          "output_type": "display_data",
          "data": {
            "text/plain": [
              "<IPython.core.display.Javascript object>"
            ],
            "application/javascript": [
              "\n",
              "    async function download(id, filename, size) {\n",
              "      if (!google.colab.kernel.accessAllowed) {\n",
              "        return;\n",
              "      }\n",
              "      const div = document.createElement('div');\n",
              "      const label = document.createElement('label');\n",
              "      label.textContent = `Downloading \"${filename}\": `;\n",
              "      div.appendChild(label);\n",
              "      const progress = document.createElement('progress');\n",
              "      progress.max = size;\n",
              "      div.appendChild(progress);\n",
              "      document.body.appendChild(div);\n",
              "\n",
              "      const buffers = [];\n",
              "      let downloaded = 0;\n",
              "\n",
              "      const channel = await google.colab.kernel.comms.open(id);\n",
              "      // Send a message to notify the kernel that we're ready.\n",
              "      channel.send({})\n",
              "\n",
              "      for await (const message of channel.messages) {\n",
              "        // Send a message to notify the kernel that we're ready.\n",
              "        channel.send({})\n",
              "        if (message.buffers) {\n",
              "          for (const buffer of message.buffers) {\n",
              "            buffers.push(buffer);\n",
              "            downloaded += buffer.byteLength;\n",
              "            progress.value = downloaded;\n",
              "          }\n",
              "        }\n",
              "      }\n",
              "      const blob = new Blob(buffers, {type: 'application/binary'});\n",
              "      const a = document.createElement('a');\n",
              "      a.href = window.URL.createObjectURL(blob);\n",
              "      a.download = filename;\n",
              "      div.appendChild(a);\n",
              "      a.click();\n",
              "      div.remove();\n",
              "    }\n",
              "  "
            ]
          },
          "metadata": {}
        },
        {
          "output_type": "display_data",
          "data": {
            "text/plain": [
              "<IPython.core.display.Javascript object>"
            ],
            "application/javascript": [
              "download(\"download_f844d38f-a5f4-40bb-aebe-9a6c180b7d1c\", \"trainingHistory_XL1.eps\", 24283)"
            ]
          },
          "metadata": {}
        }
      ]
    },
    {
      "cell_type": "code",
      "source": [
        "# Add the softmax layer\n",
        "probability_model = tf.keras.Sequential([model, tf.keras.layers.Softmax()])\n",
        "predictions = probability_model.predict(X_test) # predictions = (n_samples x n_features) with probability of prediction\n",
        "\n",
        "index = 1\n",
        "\n",
        "# print(predictions.shape)\n",
        "# print(predictions[index],y_test[index])\n",
        "\n",
        "def plot_pred(ax,i, predictions_array, true_label): # i = index of prediction\n",
        "  if np.argmax(predictions_array[i,:]) == 0:\n",
        "    colors=['blue','black','black','black','black']\n",
        "  elif np.argmax(predictions_array[i,:]) == 1:\n",
        "    colors=['black','blue','black','black','black']\n",
        "  elif np.argmax(predictions_array[i,:]) == 2:\n",
        "    colors=['black','black','blue','black','black']\n",
        "  elif np.argmax(predictions_array[i,:]) == 3:\n",
        "    colors=['black','black','black','blue','black']\n",
        "  elif np.argmax(predictions_array[i,:]) == 4:\n",
        "    colors=['black','black','black','black','blue']\n",
        "  \n",
        "  labels = ['0.1', '0.25', '0.5', '0.75', '1']\n",
        "  ax.bar(labels, predictions_array[i,:],color=colors)\n",
        "  ax.get_xticklabels()[true_label[i]].set_color('green')\n",
        "  ax.set_xlabel('Length (m)')\n",
        "  ax.set_ylabel('Probability')\n",
        "\n",
        "  # print('The true label is: ',true_label[i])\n",
        "  # print('The predicted label is :',np.argmax(predictions_array[i,:]))\n",
        "\n",
        "# Making subplots\n",
        "n_rows = 1\n",
        "n_cols = 3\n",
        "\n",
        "random_integers = np.random.randint(0, len(y_test), size=n_cols*n_rows)\n",
        "\n",
        "fig, axs = plt.subplots(n_rows, n_cols, figsize=(12,3))  # create the subplots\n",
        "\n",
        "for i, ax in enumerate(axs.flat):  # iterate over the subplots\n",
        "  plot_pred(ax, random_integers[i], predictions, y_test)\n",
        "\n",
        "plt.tight_layout()  # adjust the spacing between subplots\n",
        "plt.show()\n",
        "\n",
        "# Check how many were predicted wrong\n",
        "idx_wrong = []\n",
        "idx_right = []\n",
        "for i in range(len(y_test)):\n",
        "  if np.argmax(predictions[i,:]) == y_test[i]:\n",
        "    idx_right.append(i)\n",
        "  else:\n",
        "    idx_wrong.append(i)\n",
        "idx_wrong = np.array(idx_wrong)\n",
        "idx_right = np.array(idx_right)\n",
        "print(f'From the {len(y_test)} samples is {100*len(idx_right)/(len(idx_right)+len(idx_wrong))}% guessed correctly!')\n",
        "\n",
        "# Plot a wrong sample\n",
        "plot_pred(idx_wrong[int(np.random.randint(0, len(idx_wrong), size=1))],predictions,y_test)\n"
      ],
      "metadata": {
        "colab": {
          "base_uri": "https://localhost:8080/",
          "height": 594
        },
        "id": "ZDPUUEgQCCjq",
        "outputId": "909086ec-30f2-4327-ec20-ce2e1a460973"
      },
      "execution_count": null,
      "outputs": [
        {
          "output_type": "stream",
          "name": "stdout",
          "text": [
            "4/4 [==============================] - 0s 3ms/step\n"
          ]
        },
        {
          "output_type": "display_data",
          "data": {
            "text/plain": [
              "<Figure size 1200x300 with 3 Axes>"
            ],
            "image/png": "[encoded data removed]"
          },
          "metadata": {}
        },
        {
          "output_type": "stream",
          "name": "stdout",
          "text": [
            "From the 100 samples is 100.0% guessed correctly!\n"
          ]
        },
        {
          "output_type": "error",
          "ename": "ValueError",
          "evalue": "ignored",
          "traceback": [
            "\u001b[0;31m---------------------------------------------------------------------------\u001b[0m",
            "\u001b[0;31mValueError\u001b[0m                                Traceback (most recent call last)",
            "\u001b[0;32m<ipython-input-26-465a7d4ddbe8>\u001b[0m in \u001b[0;36m<cell line: 58>\u001b[0;34m()\u001b[0m\n\u001b[1;32m     56\u001b[0m \u001b[0;34m\u001b[0m\u001b[0m\n\u001b[1;32m     57\u001b[0m \u001b[0;31m# Plot a wrong sample\u001b[0m\u001b[0;34m\u001b[0m\u001b[0;34m\u001b[0m\u001b[0m\n\u001b[0;32m---> 58\u001b[0;31m \u001b[0mplot_pred\u001b[0m\u001b[0;34m(\u001b[0m\u001b[0midx_wrong\u001b[0m\u001b[0;34m[\u001b[0m\u001b[0mint\u001b[0m\u001b[0;34m(\u001b[0m\u001b[0mnp\u001b[0m\u001b[0;34m.\u001b[0m\u001b[0mrandom\u001b[0m\u001b[0;34m.\u001b[0m\u001b[0mrandint\u001b[0m\u001b[0;34m(\u001b[0m\u001b[0;36m0\u001b[0m\u001b[0;34m,\u001b[0m \u001b[0mlen\u001b[0m\u001b[0;34m(\u001b[0m\u001b[0midx_wrong\u001b[0m\u001b[0;34m)\u001b[0m\u001b[0;34m,\u001b[0m \u001b[0msize\u001b[0m\u001b[0;34m=\u001b[0m\u001b[0;36m1\u001b[0m\u001b[0;34m)\u001b[0m\u001b[0;34m)\u001b[0m\u001b[0;34m]\u001b[0m\u001b[0;34m,\u001b[0m\u001b[0mpredictions\u001b[0m\u001b[0;34m,\u001b[0m\u001b[0my_test\u001b[0m\u001b[0;34m)\u001b[0m\u001b[0;34m\u001b[0m\u001b[0;34m\u001b[0m\u001b[0m\n\u001b[0m",
            "\u001b[0;32mmtrand.pyx\u001b[0m in \u001b[0;36mnumpy.random.mtrand.RandomState.randint\u001b[0;34m()\u001b[0m\n",
            "\u001b[0;32m_bounded_integers.pyx\u001b[0m in \u001b[0;36mnumpy.random._bounded_integers._rand_int64\u001b[0;34m()\u001b[0m\n",
            "\u001b[0;31mValueError\u001b[0m: high <= 0"
          ]
        }
      ]
    },
    {
      "cell_type": "code",
      "source": [
        "# save the figure as an EPS file\n",
        "fig.savefig('results_XL1.eps', format='eps')\n",
        "# download the figure to your local machine\n",
        "from google.colab import files\n",
        "files.download('results_XL1.eps')"
      ],
      "metadata": {
        "colab": {
          "base_uri": "https://localhost:8080/",
          "height": 17
        },
        "id": "LpivTvp073q8",
        "outputId": "6d87f5cb-6cee-4986-dabb-a946d96ad266"
      },
      "execution_count": null,
      "outputs": [
        {
          "output_type": "display_data",
          "data": {
            "text/plain": [
              "<IPython.core.display.Javascript object>"
            ],
            "application/javascript": [
              "\n",
              "    async function download(id, filename, size) {\n",
              "      if (!google.colab.kernel.accessAllowed) {\n",
              "        return;\n",
              "      }\n",
              "      const div = document.createElement('div');\n",
              "      const label = document.createElement('label');\n",
              "      label.textContent = `Downloading \"${filename}\": `;\n",
              "      div.appendChild(label);\n",
              "      const progress = document.createElement('progress');\n",
              "      progress.max = size;\n",
              "      div.appendChild(progress);\n",
              "      document.body.appendChild(div);\n",
              "\n",
              "      const buffers = [];\n",
              "      let downloaded = 0;\n",
              "\n",
              "      const channel = await google.colab.kernel.comms.open(id);\n",
              "      // Send a message to notify the kernel that we're ready.\n",
              "      channel.send({})\n",
              "\n",
              "      for await (const message of channel.messages) {\n",
              "        // Send a message to notify the kernel that we're ready.\n",
              "        channel.send({})\n",
              "        if (message.buffers) {\n",
              "          for (const buffer of message.buffers) {\n",
              "            buffers.push(buffer);\n",
              "            downloaded += buffer.byteLength;\n",
              "            progress.value = downloaded;\n",
              "          }\n",
              "        }\n",
              "      }\n",
              "      const blob = new Blob(buffers, {type: 'application/binary'});\n",
              "      const a = document.createElement('a');\n",
              "      a.href = window.URL.createObjectURL(blob);\n",
              "      a.download = filename;\n",
              "      div.appendChild(a);\n",
              "      a.click();\n",
              "      div.remove();\n",
              "    }\n",
              "  "
            ]
          },
          "metadata": {}
        },
        {
          "output_type": "display_data",
          "data": {
            "text/plain": [
              "<IPython.core.display.Javascript object>"
            ],
            "application/javascript": [
              "download(\"download_e7787f78-324b-45b0-8f32-1a7dcc9c5bb6\", \"results_XL1.eps\", 29308)"
            ]
          },
          "metadata": {}
        }
      ]
    }
  ]
}